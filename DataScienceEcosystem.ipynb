{
 "cells": [
  {
   "cell_type": "markdown",
   "id": "5aed70d9-f66d-40af-b2e6-1f9d1d5748bb",
   "metadata": {},
   "source": [
    "# Data Science Tools and Ecosystem"
   ]
  },
  {
   "cell_type": "markdown",
   "id": "4e472e7f-e928-4203-af25-bdf7f24caa97",
   "metadata": {},
   "source": [
    "# Title of the Notebook\n"
   ]
  },
  {
   "cell_type": "markdown",
   "id": "1e3bf6d1-2587-4fa7-b71f-fca79abd1682",
   "metadata": {},
   "source": [
    "# python for data science,AI & Devlopment"
   ]
  },
  {
   "cell_type": "markdown",
   "id": "6d7f2337-44bb-45ea-8017-315802791d5c",
   "metadata": {},
   "source": [
    " ## Introduction"
   ]
  },
  {
   "cell_type": "markdown",
   "id": "61c3a1e9-5dbc-41b8-92a4-636416965223",
   "metadata": {},
   "source": [
    "## Data Science Languages\n",
    "- **python**\n",
    "- **R**\n",
    "- **SQL**\n",
    "- **java**\n",
    "- **Julia**\n",
    "- **SAS**\n",
    "- **MATLAB**\n",
    "- **Scala**"
   ]
  },
  {
   "cell_type": "markdown",
   "id": "bac90f9f-b1e2-43f8-a3b7-71efeccc4342",
   "metadata": {},
   "source": [
    "## Data Science Libraries\n",
    "- **pandas**\n",
    "- **Numpy**\n",
    "- **Matplotlib**\n",
    "- **Seaborn**\n",
    "- **Scikit-learn**\n",
    "- **TensorFlow**\n",
    "- **keras**\n",
    "- **Pytorch**\n",
    "- **SciPy**\n",
    "- **Statsmodels**"
   ]
  },
  {
   "cell_type": "markdown",
   "id": "b5316693-eb3f-4683-ba97-74dd7d8583a2",
   "metadata": {},
   "source": [
    "## Data Science Tools\n",
    "| Tool           | Description | \n",
    "|----------------|---------------------------------------|  \n",
    "| Jupyter        | Interactive computing notebooks |\n",
    "| RStudio        | Integrated development environment for R | \n",
    "| Apache Spark   | Unified analytics engine for big data | \n",
    "| TensorFlow     | Open-source machine learning framework| \n",
    "| Tableau        | Data visualization tool | \n",
    "| Power BI       | Business analytics service |  \n",
    "| MATLAB         | Programming environment for algorithm development and data visualization | \n",
    "| RapidMiner     | Data science software for machine learning and predictive analytics | \n",
    "| KNIME          | Open-source data analytics, reporting, and integration platform"
   ]
  },
  {
   "cell_type": "markdown",
   "id": "58ff354f-7a05-4e2a-8343-7cdd46006b69",
   "metadata": {},
   "source": [
    "## Arithmetic Expression Examples\n",
    "- **Addition (`+`)**: Adds two\n",
    "- **Subtraction (`-`)**: Subtracts one number from another.\n",
    "- **Multiplication (`*`)**: Multiplies two numbers.\n",
    "- **Division (`/`)**: Divides one number by another.\n",
    "- **Exponentiation (`**`)**: Raises one number to the power of another.\n",
    "- **Modulus (`%`)**: Finds the remainder of division of one number by another."
   ]
  },
  {
   "cell_type": "code",
   "execution_count": 5,
   "id": "2615eb85-89e4-4fb0-90af-0a384e6e57a3",
   "metadata": {},
   "outputs": [
    {
     "name": "stdout",
     "output_type": "stream",
     "text": [
      "15\n",
      "8\n"
     ]
    }
   ],
   "source": [
    "# Multiply two numbers \n",
    "product = int(5 * 3 )\n",
    "print( product) \n",
    "# Add two numbers \n",
    "sum_result =int( 5 + 3 )\n",
    "print( sum_result)"
   ]
  },
  {
   "cell_type": "code",
   "execution_count": 8,
   "id": "3f736bf8-15a5-4791-a658-97d6ad65a0e5",
   "metadata": {},
   "outputs": [
    {
     "name": "stdout",
     "output_type": "stream",
     "text": [
      "120 minutes isequal to 2.0 hours\n"
     ]
    }
   ],
   "source": [
    "# Function to convert minutes to hours\n",
    "def convert_minutes_to_hours(minutes):\n",
    "    hours=minutes/60\n",
    "    return hours\n",
    "# Example: Converts 120 minutes to hours\n",
    "minutes=120\n",
    "hours=convert_minutes_to_hours(minutes)\n",
    "print(f\"{minutes} minutes isequal to {hours} hours\")"
   ]
  },
  {
   "cell_type": "markdown",
   "id": "043c577a-065d-474a-9a7e-a432f4763dab",
   "metadata": {},
   "source": [
    "- Understand the basics of Python programming. \n",
    "- Learn how to manipulate and analyze data using Pandas. \n",
    "- Explore data visualization techniques with Matplotlib and Seaborn. \n",
    "- Get introduced to machine learning concepts with Scikit-learn. \n",
    "- Apply Python skills to real-world data science projects."
   ]
  },
  {
   "cell_type": "markdown",
   "id": "a688c65e-04d7-4375-bbbf-0e7beaf7b14f",
   "metadata": {},
   "source": [
    "## Author\n",
    "- Lakshami Holla\n",
    "- Niveditha Pandith\n"
   ]
  },
  {
   "cell_type": "code",
   "execution_count": null,
   "id": "44a6fe98-87f0-4abb-900a-d7729785ab3e",
   "metadata": {},
   "outputs": [],
   "source": []
  }
 ],
 "metadata": {
  "kernelspec": {
   "display_name": "Python 3 (ipykernel)",
   "language": "python",
   "name": "python3"
  },
  "language_info": {
   "codemirror_mode": {
    "name": "ipython",
    "version": 3
   },
   "file_extension": ".py",
   "mimetype": "text/x-python",
   "name": "python",
   "nbconvert_exporter": "python",
   "pygments_lexer": "ipython3",
   "version": "3.11.7"
  }
 },
 "nbformat": 4,
 "nbformat_minor": 5
}
